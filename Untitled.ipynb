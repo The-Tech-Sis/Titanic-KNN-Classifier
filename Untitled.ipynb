{
 "cells": [
  {
   "cell_type": "code",
   "execution_count": 4,
   "id": "17979da1-5868-4edb-8312-dec332e969d3",
   "metadata": {},
   "outputs": [],
   "source": [
    "#Imports\n",
    "\n",
    "import numpy as np\n",
    "import pandas as pd\n",
    "\n",
    "from sklearn.model_selection import train_test_split, GridSearchCV\n",
    "from sklearn.preprocessing import MinMaxScaler\n",
    "from sklearn.neighbors import KNeighborsClassifier\n",
    "from sklearn.metrics import accuracy_score, confusion_matrix\n",
    "\n",
    "import matplotlib.pyplot as plt\n",
    "import seaborn as sns"
   ]
  },
  {
   "cell_type": "code",
   "execution_count": 5,
   "id": "96d29ce5-3d39-4285-982e-a7ce0c27871d",
   "metadata": {},
   "outputs": [
    {
     "name": "stdout",
     "output_type": "stream",
     "text": [
      "<class 'pandas.core.frame.DataFrame'>\n",
      "RangeIndex: 418 entries, 0 to 417\n",
      "Data columns (total 12 columns):\n",
      " #   Column       Non-Null Count  Dtype  \n",
      "---  ------       --------------  -----  \n",
      " 0   PassengerId  418 non-null    int64  \n",
      " 1   Survived     418 non-null    int64  \n",
      " 2   Pclass       418 non-null    int64  \n",
      " 3   Name         418 non-null    object \n",
      " 4   Sex          418 non-null    object \n",
      " 5   Age          332 non-null    float64\n",
      " 6   SibSp        418 non-null    int64  \n",
      " 7   Parch        418 non-null    int64  \n",
      " 8   Ticket       418 non-null    object \n",
      " 9   Fare         417 non-null    float64\n",
      " 10  Cabin        91 non-null     object \n",
      " 11  Embarked     418 non-null    object \n",
      "dtypes: float64(2), int64(5), object(5)\n",
      "memory usage: 39.3+ KB\n"
     ]
    }
   ],
   "source": [
    "data = pd.read_csv('titanic.csv')\n",
    "data.info()"
   ]
  },
  {
   "cell_type": "code",
   "execution_count": 6,
   "id": "3c8bf391-7cce-4efa-b909-7bcdf8c62b3a",
   "metadata": {},
   "outputs": [
    {
     "name": "stdout",
     "output_type": "stream",
     "text": [
      "PassengerId      0\n",
      "Survived         0\n",
      "Pclass           0\n",
      "Name             0\n",
      "Sex              0\n",
      "Age             86\n",
      "SibSp            0\n",
      "Parch            0\n",
      "Ticket           0\n",
      "Fare             1\n",
      "Cabin          327\n",
      "Embarked         0\n",
      "dtype: int64\n"
     ]
    }
   ],
   "source": [
    "print(data.isnull().sum())"
   ]
  },
  {
   "cell_type": "code",
   "execution_count": 16,
   "id": "b329448c-1c29-4802-8e1c-1eef2b42befb",
   "metadata": {},
   "outputs": [],
   "source": [
    "# data cleaning and feature engineering\n",
    "\n",
    "def preprocess_data(df):\n",
    "    df.drop(columns=[\"PassengerId\", \"Name\", \"Tickets\", \"Cabin\"], inplace=True)\n",
    "    df.fillna({\"Embarked\": \"S\"}, inplace=True)\n",
    "\n",
    "    # Convert gender\n",
    "    df[\"Sex\"] = df[\"Sex\"].map({\"male\":1, \"female\":0})\n",
    "\n",
    "    #Feature Engineering \n",
    "    df[\"FamilySize\"] = df[SibSp] + df[\"parch\"]\n",
    "    df[\"IsAlone\"] = np.where(df[\"FamilySize\"] == 0, 1, 0)\n",
    "    df[\"FareBin\"] = pd.qcut(df[\"Fare\"], 4, labels=False)\n",
    "    df[\"AgeBin\"] = pd.cut(df[\"Age\"], bins=[0,12,20,40,60, np.inf], labels = False)\n",
    "\n",
    "    return df"
   ]
  },
  {
   "cell_type": "code",
   "execution_count": null,
   "id": "72588a4c-12fe-4384-8bfe-58734b6e2c85",
   "metadata": {},
   "outputs": [],
   "source": [
    "# fill in missing ages\n",
    "def fill_in_missing_ages(df):\n",
    "    age_fill_map = {}\n",
    "    for pclass in df[\"Pclass\"].unique():\n",
    "        if pclass not in age_fill_map:\n",
    "            age_fill_map[plcass] = df[df[\"Pclass\"] == pclass][\"Age\"].median()"
   ]
  },
  {
   "cell_type": "code",
   "execution_count": null,
   "id": "eaf6f70a-aa4b-4973-b057-a5ac1b2a0988",
   "metadata": {},
   "outputs": [],
   "source": []
  }
 ],
 "metadata": {
  "kernelspec": {
   "display_name": "Python 3 (ipykernel)",
   "language": "python",
   "name": "python3"
  },
  "language_info": {
   "codemirror_mode": {
    "name": "ipython",
    "version": 3
   },
   "file_extension": ".py",
   "mimetype": "text/x-python",
   "name": "python",
   "nbconvert_exporter": "python",
   "pygments_lexer": "ipython3",
   "version": "3.13.5"
  }
 },
 "nbformat": 4,
 "nbformat_minor": 5
}
